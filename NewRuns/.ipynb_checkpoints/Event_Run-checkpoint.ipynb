{
 "cells": [
  {
   "cell_type": "code",
   "execution_count": 1,
   "id": "0544cfc0",
   "metadata": {},
   "outputs": [],
   "source": [
    "import ringdown\n",
    "from ringdb import Database\n",
    "import lalsimulation as ls\n",
    "import numpy as np\n",
    "import pandas as pd\n",
    "import seaborn as sns\n",
    "import arviz as az\n",
    "import matplotlib.pyplot as plt\n",
    "\n",
    "db = Database('./Data')\n",
    "db.initialize()"
   ]
  },
  {
   "cell_type": "markdown",
   "id": "22b4e810",
   "metadata": {},
   "source": [
    "#### Choose Event"
   ]
  },
  {
   "cell_type": "code",
   "execution_count": 9,
   "id": "8ea22649",
   "metadata": {},
   "outputs": [
    {
     "name": "stdout",
     "output_type": "stream",
     "text": [
      "C01:IMRPhenomXPHM\n"
     ]
    }
   ],
   "source": [
    "eventname = 'GW150914'\n",
    "event = db.event(eventname)\n",
    "strains = event.strain()\n",
    "posts = event.posteriors()\n",
    "\n",
    "db.update_posterior_schema({'f_low': {'path': \"/{approximant}/meta_data/meta_data/f_low\", 'type':'value'}})\n",
    "db.update_posterior_schema({'f_ref': {'path': \"/{approximant}/meta_data/meta_data/f_ref\", 'type':'value'}})\n",
    "\n",
    "print(event.PD_ref.choose_approximant(event.name))"
   ]
  },
  {
   "cell_type": "markdown",
   "id": "d28e21a9",
   "metadata": {},
   "source": [
    "#### Compute t_peak using some approximant"
   ]
  },
  {
   "cell_type": "code",
   "execution_count": 63,
   "id": "c9d481b8",
   "metadata": {},
   "outputs": [
    {
     "name": "stdout",
     "output_type": "stream",
     "text": [
      "Using IMRPhenomXPHM\n"
     ]
    }
   ],
   "source": [
    "new_approximant = None\n",
    "#new_approximant = 'C01:SEOBNRv4PHM'\n",
    "\n",
    "fd_or_td = 'td'\n",
    "\n",
    "try:\n",
    "    if new_approximant:\n",
    "        posts = pd.DataFrame(event.read_posterior_file_from_schema('samples',approximant=new_approximant))\n",
    "        f_low = float(event.read_posterior_file_from_schema('f_low', approximant=new_approximant))\n",
    "        f_ref = float(event.read_posterior_file_from_schema('f_ref', approximant=new_approximant))\n",
    "        waveform_name = new_approximant.replace('C01:','')\n",
    "        waveform_code = getattr(ls, waveform_name)\n",
    "    else:\n",
    "        # Use the standard approximant\n",
    "        f_low = float(event.read_posterior_file_from_schema('f_low'))\n",
    "        f_ref = float(event.read_posterior_file_from_schema('f_ref'))\n",
    "        waveform_name = posts['waveform_name'].unique()[0]\n",
    "        waveform_code = int(posts['waveform_code'].unique()[0])\n",
    "except:\n",
    "    print(\"Falling back to f_ref = 20, f_low=20\")\n",
    "    waveform_name = posts['waveform_name'].unique()[0]\n",
    "    waveform_code = int(posts['waveform_code'].unique()[0])\n",
    "    f_low = 20\n",
    "    f_ref = 20\n",
    "\n",
    "print(f\"Using {waveform_name}\")\n",
    "wf_ls = waveform_code\n",
    "sample_rate = np.max([a.fsamp for a in strains.values()])\n",
    "target_sample_rate = 4096\n",
    "\n",
    "samps = [x.to_dict() for i,x in posts.sample(min(800, len(posts))).iterrows()]\n",
    "t_peaks = []\n",
    "\n",
    "for i,x in enumerate(samps):\n",
    "    if fd_or_td == 'fd':\n",
    "        t_peak, t_dict, hp, hc = ringdown.complex_strain_peak_time_fd(x,\n",
    "                                                                      wf=wf_ls,\n",
    "                                                                      f_ref=100, f_low=f_low, df=1,\n",
    "                                                                      f_high=target_sample_rate)\n",
    "        samps[i].update({k+'_peak':v.ns()*1e-9 for k,v in t_dict.items()})\n",
    "        t_peaks.append(t_peak)\n",
    "    else:\n",
    "        t_peak, t_dict, hp, hc = ringdown.complex_strain_peak_time_td(x,\n",
    "                                                                      wf=wf_ls, dt=1/target_sample_rate,\n",
    "                                                                      f_ref=f_ref, f_low=f_low)\n",
    "        samps[i].update({k+'_peak':v for k,v in t_dict.items()})\n",
    "    \n",
    "samps = pd.DataFrame(samps)"
   ]
  },
  {
   "cell_type": "markdown",
   "id": "d42ad3db",
   "metadata": {},
   "source": [
    "#### Choose median sample based on some reference ifo (or geocent):"
   ]
  },
  {
   "cell_type": "code",
   "execution_count": 64,
   "id": "3c085b0a",
   "metadata": {},
   "outputs": [
    {
     "name": "stdout",
     "output_type": "stream",
     "text": [
      "The median time at H1 is:  1126259462.424029 s\n",
      "The mass time-scale is:  0.336 ms\n"
     ]
    }
   ],
   "source": [
    "# Get median sample\n",
    "ref_ifo = 'H1'\n",
    "im = (samps[f'{ref_ifo}_peak'] - samps[f'{ref_ifo}_peak'].quantile(0.5)).abs().argmin()\n",
    "median_samp = samps.iloc[im]\n",
    "\n",
    "# Construct Arguments for set_target\n",
    "args = median_samp[['geocent_peak', 'ra','dec','psi']].rename({'geocent_peak':'t0'}).to_dict()\n",
    "print(\"The median time at H1 is: \", median_samp['H1_peak'], \"s\")\n",
    "\n",
    "# Get the mass time-scale\n",
    "Mass_Time = lambda M: 6.674e-11*M*1.989e+30/(3e8)**3\n",
    "t_M = Mass_Time(median_samp['final_mass'])\n",
    "print(\"The mass time-scale is: \", np.round(t_M*1000,3), \"ms\")"
   ]
  },
  {
   "cell_type": "code",
   "execution_count": 65,
   "id": "1c94c809",
   "metadata": {},
   "outputs": [
    {
     "data": {
      "text/plain": [
       "<AxesSubplot:>"
      ]
     },
     "execution_count": 65,
     "metadata": {},
     "output_type": "execute_result"
    },
    {
     "data": {
      "image/png": "[encoded data removed]",
      "text/plain": [
       "<Figure size 432x288 with 1 Axes>"
      ]
     },
     "metadata": {
      "needs_background": "light"
     },
     "output_type": "display_data"
    }
   ],
   "source": [
    "samps.geocent_peak.hist()"
   ]
  },
  {
   "cell_type": "code",
   "execution_count": 66,
   "id": "dfa19eb6",
   "metadata": {},
   "outputs": [],
   "source": [
    "fit = ringdown.Fit(model='mchi', modes=[(1, -2, 2, 2, 0), (1, -2, 2, 2, 1)])\n",
    "\n",
    "fit.add_data(strains['H1'])\n",
    "fit.add_data(strains['L1'])\n",
    "\n",
    "fit.set_target(**args, duration=0.1)\n",
    "fit.condition_data(ds=int(sample_rate/target_sample_rate),digital_filter=True)\n",
    "fit.compute_acfs()\n",
    "\n",
    "fit.update_prior(A_scale=5e-21, M_min=median_samp['final_mass']*0.5,\n",
    "                 M_max=median_samp['final_mass']*2.0,\n",
    "                 flat_A=1)"
   ]
  },
  {
   "cell_type": "code",
   "execution_count": null,
   "id": "7e5106a3",
   "metadata": {
    "scrolled": false
   },
   "outputs": [
    {
     "name": "stderr",
     "output_type": "stream",
     "text": [
      "Auto-assigning NUTS sampler...\n",
      "INFO:pymc:Auto-assigning NUTS sampler...\n",
      "Initializing NUTS using jitter+adapt_full...\n",
      "INFO:pymc:Initializing NUTS using jitter+adapt_full...\n",
      "Multiprocess sampling (4 chains in 4 jobs)\n",
      "INFO:pymc:Multiprocess sampling (4 chains in 4 jobs)\n",
      "NUTS: [M, chi, Apx_unit, Apy_unit, Acx_unit, Acy_unit, df, dtau]\n",
      "INFO:pymc:NUTS: [M, chi, Apx_unit, Apy_unit, Acx_unit, Acy_unit, df, dtau]\n",
      "WARNING (aesara.tensor.blas): Using NumPy C-API based implementation for BLAS functions.\n",
      "WARNING (aesara.tensor.blas): Using NumPy C-API based implementation for BLAS functions.\n",
      "WARNING (aesara.tensor.blas): Using NumPy C-API based implementation for BLAS functions.\n",
      "WARNING (aesara.tensor.blas): Using NumPy C-API based implementation for BLAS functions.\n"
     ]
    },
    {
     "data": {
      "text/html": [
       "\n",
       "<style>\n",
       "    /* Turns off some styling */\n",
       "    progress {\n",
       "        /* gets rid of default border in Firefox and Opera. */\n",
       "        border: none;\n",
       "        /* Needs to be in here for Safari polyfill so background images work as expected. */\n",
       "        background-size: auto;\n",
       "    }\n",
       "    .progress-bar-interrupted, .progress-bar-interrupted::-webkit-progress-bar {\n",
       "        background: #F44336;\n",
       "    }\n",
       "</style>\n"
      ],
      "text/plain": [
       "<IPython.core.display.HTML object>"
      ]
     },
     "metadata": {},
     "output_type": "display_data"
    },
    {
     "data": {
      "text/html": [
       "\n",
       "    <div>\n",
       "      <progress value='8009' class='' max='12000' style='width:300px; height:20px; vertical-align: middle;'></progress>\n",
       "      66.74% [8009/12000 01:39<00:49 Sampling 4 chains, 0 divergences]\n",
       "    </div>\n",
       "    "
      ],
      "text/plain": [
       "<IPython.core.display.HTML object>"
      ]
     },
     "metadata": {},
     "output_type": "display_data"
    }
   ],
   "source": [
    "fit.run(draws=2000, target_accept=0.95, tune=1000)"
   ]
  },
  {
   "cell_type": "code",
   "execution_count": null,
   "id": "5812f276",
   "metadata": {},
   "outputs": [],
   "source": [
    "def combined_results(fit, imrs):\n",
    "    cols = [(r'$M$','M'), (r'$\\chi$','chi')]\n",
    "    the_result = pd.DataFrame({col[0]: fit.result['posterior'][col[1]].values.flatten() for col in cols})\n",
    "    the_result['result'] = 'Ringdown'\n",
    "\n",
    "    cols = [(r'$M$','final_mass'), (r'$\\chi$','final_spin')]\n",
    "    the_result2 = pd.DataFrame({col[0]: posts[col[1]].values.flatten() for col in cols})\n",
    "    the_result2['result'] = 'IMR'\n",
    "\n",
    "    the_result = pd.concat([the_result, the_result2]).reset_index(drop=True)\n",
    "    return the_result"
   ]
  },
  {
   "cell_type": "code",
   "execution_count": null,
   "id": "928b36c4",
   "metadata": {},
   "outputs": [],
   "source": [
    "\n",
    "the_result = combined_results(fit, posts)\n",
    "g = sns.jointplot(data=the_result, x=r'$M$', y=r'$\\chi$', hue='result', \n",
    "              kind='kde', fill=True, levels=[0.3,0.6,0.9], common_norm=False, alpha=0.7)\n",
    "plt.show()"
   ]
  }
 ],
 "metadata": {
  "kernelspec": {
   "display_name": "Python 3 (ipykernel)",
   "language": "python",
   "name": "python3"
  },
  "language_info": {
   "codemirror_mode": {
    "name": "ipython",
    "version": 3
   },
   "file_extension": ".py",
   "mimetype": "text/x-python",
   "name": "python",
   "nbconvert_exporter": "python",
   "pygments_lexer": "ipython3",
   "version": "3.8.8"
  }
 },
 "nbformat": 4,
 "nbformat_minor": 5
}
