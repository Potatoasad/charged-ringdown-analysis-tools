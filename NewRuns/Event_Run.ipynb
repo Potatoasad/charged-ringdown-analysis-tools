{
 "cells": [
  {
   "cell_type": "code",
   "execution_count": 11,
   "id": "deb7734b",
   "metadata": {},
   "outputs": [],
   "source": [
    "import ringdown\n",
    "from ringdb import Database\n",
    "import lalsimulation as ls\n",
    "import numpy as np\n",
    "import pandas as pd\n",
    "import seaborn as sns\n",
    "import arviz as az\n",
    "import matplotlib.pyplot as plt\n",
    "\n",
    "db = Database('./Data')\n",
    "db.initialize()"
   ]
  },
  {
   "cell_type": "markdown",
   "id": "8e6dbf0e",
   "metadata": {},
   "source": [
    "#### Choose Event"
   ]
  },
  {
   "cell_type": "code",
   "execution_count": 12,
   "id": "770d52aa",
   "metadata": {},
   "outputs": [
    {
     "name": "stdout",
     "output_type": "stream",
     "text": [
      "C01:IMRPhenomXPHM\n"
     ]
    }
   ],
   "source": [
    "eventname = 'GW150914'\n",
    "event = db.event(eventname)\n",
    "strains = event.strain()\n",
    "posts = event.posteriors()\n",
    "\n",
    "db.update_posterior_schema({'f_low': {'path': \"/{approximant}/meta_data/meta_data/f_low\", 'type':'value'}})\n",
    "db.update_posterior_schema({'f_ref': {'path': \"/{approximant}/meta_data/meta_data/f_ref\", 'type':'value'}})\n",
    "\n",
    "print(event.PD_ref.choose_approximant(event.name))"
   ]
  },
  {
   "cell_type": "markdown",
   "id": "87795230",
   "metadata": {},
   "source": [
    "#### Compute t_peak using some approximant"
   ]
  },
  {
   "cell_type": "code",
   "execution_count": 33,
   "id": "1e022afb",
   "metadata": {},
   "outputs": [
    {
     "name": "stdout",
     "output_type": "stream",
     "text": [
      "Using IMRPhenomXPHM\n"
     ]
    }
   ],
   "source": [
    "new_approximant = None\n",
    "#new_approximant = 'C01:SEOBNRv4PHM'\n",
    "\n",
    "fd_or_td = 'td'\n",
    "\n",
    "try:\n",
    "    if new_approximant:\n",
    "        posts = pd.DataFrame(event.read_posterior_file_from_schema('samples',approximant=new_approximant))\n",
    "        f_low = float(event.read_posterior_file_from_schema('f_low', approximant=new_approximant))\n",
    "        f_ref = float(event.read_posterior_file_from_schema('f_ref', approximant=new_approximant))\n",
    "        waveform_name = new_approximant.replace('C01:','')\n",
    "        waveform_code = getattr(ls, waveform_name)\n",
    "    else:\n",
    "        # Use the standard approximant\n",
    "        f_low = float(event.read_posterior_file_from_schema('f_low'))\n",
    "        f_ref = float(event.read_posterior_file_from_schema('f_ref'))\n",
    "        waveform_name = posts['waveform_name'].unique()[0]\n",
    "        waveform_code = int(posts['waveform_code'].unique()[0])\n",
    "except:\n",
    "    print(\"Falling back to f_ref = 20, f_low=20\")\n",
    "    waveform_name = posts['waveform_name'].unique()[0]\n",
    "    waveform_code = int(posts['waveform_code'].unique()[0])\n",
    "    f_low = 20\n",
    "    f_ref = 20\n",
    "\n",
    "print(f\"Using {waveform_name}\")\n",
    "wf_ls = waveform_code\n",
    "sample_rate = np.max([a.fsamp for a in strains.values()])\n",
    "target_sample_rate = 4096\n",
    "\n",
    "samps = [x.to_dict() for i,x in posts.sample(min(800, len(posts))).iterrows()]\n",
    "\n",
    "for i,x in enumerate(samps):\n",
    "    if fd_or_td == 'fd':\n",
    "        t_peak, t_dict, hp, hc = ringdown.complex_strain_peak_time_fd(x,\n",
    "                                                                      wf=wf_ls,\n",
    "                                                                      f_ref=f_ref, f_low=f_low, df=0.1,\n",
    "                                                                      f_high=target_sample_rate)\n",
    "        samps[i].update({k+'_peak':v.ns()*1e-9 for k,v in t_dict.items()})\n",
    "    else:\n",
    "        t_peak, t_dict, hp, hc = ringdown.complex_strain_peak_time_td(x,\n",
    "                                                                      wf=wf_ls, dt=1/target_sample_rate,\n",
    "                                                                      f_ref=f_ref, f_low=f_low)\n",
    "        samps[i].update({k+'_peak':v for k,v in t_dict.items()})\n",
    "    \n",
    "samps = pd.DataFrame(samps)"
   ]
  },
  {
   "cell_type": "markdown",
   "id": "3535f29b",
   "metadata": {},
   "source": [
    "#### Choose median sample based on some reference ifo (or geocent):"
   ]
  },
  {
   "cell_type": "code",
   "execution_count": 34,
   "id": "d68b9531",
   "metadata": {},
   "outputs": [
    {
     "name": "stdout",
     "output_type": "stream",
     "text": [
      "The median time at H1 is:  1126259462.4240782 s\n",
      "The mass time-scale is:  0.34 ms\n",
      "The 90% CI of H1 peak time is +/- 5.1 t_M\n"
     ]
    }
   ],
   "source": [
    "# Get median sample\n",
    "ref_ifo = 'H1'\n",
    "im = (samps[f'{ref_ifo}_peak'] - samps[f'{ref_ifo}_peak'].quantile(0.5)).abs().argmin()\n",
    "median_samp = samps.iloc[im]\n",
    "\n",
    "# Construct Arguments for set_target\n",
    "args = median_samp[['geocent_peak', 'ra','dec','psi']].rename({'geocent_peak':'t0'}).to_dict()\n",
    "print(\"The median time at H1 is: \", median_samp['H1_peak'], \"s\")\n",
    "\n",
    "# Get the mass time-scale\n",
    "Mass_Time = lambda M: 6.674e-11*M*1.989e+30/(3e8)**3\n",
    "t_M = Mass_Time(median_samp['final_mass'])\n",
    "print(\"The mass time-scale is: \", np.round(t_M*1000,3), \"ms\")\n",
    "\n",
    "times_above_below = (samps['H1_peak'].quantile(0.95) - samps['H1_peak'].quantile(0.05))/(2*t_M)\n",
    "print(f\"The 90% CI of H1 peak time is +/- {np.round(times_above_below,1)} t_M\")"
   ]
  },
  {
   "cell_type": "code",
   "execution_count": 37,
   "id": "1d9d93ad",
   "metadata": {},
   "outputs": [
    {
     "data": {
      "text/plain": [
       "1126259462.424079"
      ]
     },
     "execution_count": 37,
     "metadata": {},
     "output_type": "execute_result"
    }
   ],
   "source": [
    "samps.H1_peak.median()"
   ]
  },
  {
   "cell_type": "code",
   "execution_count": 38,
   "id": "13948d27",
   "metadata": {},
   "outputs": [],
   "source": [
    "fit = ringdown.Fit(model='mchi', modes=[(1, -2, 2, 2, 0), (1, -2, 2, 2, 1)])\n",
    "\n",
    "fit.add_data(strains['H1'])\n",
    "fit.add_data(strains['L1'])\n",
    "\n",
    "fit.set_target(**args, duration=0.1)\n",
    "fit.condition_data(ds=int(sample_rate/target_sample_rate),digital_filter=True)\n",
    "fit.compute_acfs()\n",
    "\n",
    "fit.update_prior(A_scale=5e-21, M_min=median_samp['final_mass']*0.5,\n",
    "                 M_max=median_samp['final_mass']*2.0,\n",
    "                 flat_A=1)"
   ]
  },
  {
   "cell_type": "code",
   "execution_count": 39,
   "id": "6afc1adb",
   "metadata": {
    "scrolled": false
   },
   "outputs": [
    {
     "name": "stderr",
     "output_type": "stream",
     "text": [
      "Auto-assigning NUTS sampler...\n",
      "INFO:pymc:Auto-assigning NUTS sampler...\n",
      "Initializing NUTS using jitter+adapt_full...\n",
      "INFO:pymc:Initializing NUTS using jitter+adapt_full...\n",
      "Multiprocess sampling (4 chains in 4 jobs)\n",
      "INFO:pymc:Multiprocess sampling (4 chains in 4 jobs)\n",
      "NUTS: [M, chi, Apx_unit, Apy_unit, Acx_unit, Acy_unit, df, dtau]\n",
      "INFO:pymc:NUTS: [M, chi, Apx_unit, Apy_unit, Acx_unit, Acy_unit, df, dtau]\n",
      "WARNING (aesara.tensor.blas): Using NumPy C-API based implementation for BLAS functions.\n",
      "WARNING (aesara.tensor.blas): Using NumPy C-API based implementation for BLAS functions.\n",
      "WARNING (aesara.tensor.blas): Using NumPy C-API based implementation for BLAS functions.\n",
      "WARNING (aesara.tensor.blas): Using NumPy C-API based implementation for BLAS functions.\n"
     ]
    },
    {
     "data": {
      "text/html": [
       "\n",
       "<style>\n",
       "    /* Turns off some styling */\n",
       "    progress {\n",
       "        /* gets rid of default border in Firefox and Opera. */\n",
       "        border: none;\n",
       "        /* Needs to be in here for Safari polyfill so background images work as expected. */\n",
       "        background-size: auto;\n",
       "    }\n",
       "    .progress-bar-interrupted, .progress-bar-interrupted::-webkit-progress-bar {\n",
       "        background: #F44336;\n",
       "    }\n",
       "</style>\n"
      ],
      "text/plain": [
       "<IPython.core.display.HTML object>"
      ]
     },
     "metadata": {},
     "output_type": "display_data"
    },
    {
     "data": {
      "text/html": [
       "\n",
       "    <div>\n",
       "      <progress value='12000' class='' max='12000' style='width:300px; height:20px; vertical-align: middle;'></progress>\n",
       "      100.00% [12000/12000 02:46<00:00 Sampling 4 chains, 0 divergences]\n",
       "    </div>\n",
       "    "
      ],
      "text/plain": [
       "<IPython.core.display.HTML object>"
      ]
     },
     "metadata": {},
     "output_type": "display_data"
    },
    {
     "name": "stderr",
     "output_type": "stream",
     "text": [
      "Sampling 4 chains for 1_000 tune and 2_000 draw iterations (4_000 + 8_000 draws total) took 188 seconds.\n",
      "INFO:pymc:Sampling 4 chains for 1_000 tune and 2_000 draw iterations (4_000 + 8_000 draws total) took 188 seconds.\n"
     ]
    }
   ],
   "source": [
    "fit.run(draws=2000, target_accept=0.95, tune=1000)"
   ]
  },
  {
   "cell_type": "code",
   "execution_count": 40,
   "id": "02b742cc",
   "metadata": {},
   "outputs": [],
   "source": [
    "def combined_results(fit_result, imrs):\n",
    "    cols = [(r'$M$','M'), (r'$\\chi$','chi')]\n",
    "    the_result = pd.DataFrame({col[0]: fit_result['posterior'][col[1]].values.flatten() for col in cols})\n",
    "    the_result['result'] = 'Ringdown'\n",
    "\n",
    "    cols = [(r'$M$','final_mass'), (r'$\\chi$','final_spin')]\n",
    "    the_result2 = pd.DataFrame({col[0]: posts[col[1]].values.flatten() for col in cols})\n",
    "    the_result2['result'] = 'IMR'\n",
    "\n",
    "    the_result = pd.concat([the_result, the_result2]).reset_index(drop=True)\n",
    "    return the_result"
   ]
  },
  {
   "cell_type": "code",
   "execution_count": 41,
   "id": "2184c87e",
   "metadata": {},
   "outputs": [
    {
     "data": {
      "image/png": "[encoded data removed]",
      "text/plain": [
       "<Figure size 432x432 with 3 Axes>"
      ]
     },
     "metadata": {
      "needs_background": "light"
     },
     "output_type": "display_data"
    }
   ],
   "source": [
    "the_result = combined_results(fit.result, posts)\n",
    "g = sns.jointplot(data=the_result, x=r'$M$', y=r'$\\chi$', hue='result', \n",
    "              kind='kde', fill=True, levels=[0.3,0.6,0.9], common_norm=False, alpha=0.7)\n",
    "\n",
    "g.fig.suptitle(\"Run with Median Sample Time Domain IMRPhenomXPHM\")\n",
    "g.fig.tight_layout()\n",
    "g.fig.subplots_adjust(top=0.95)\n",
    "\n",
    "fit.result.to_netcdf(f'{eventname}-Median-td-{waveform_name}.nc')\n",
    "plt.show()"
   ]
  },
  {
   "cell_type": "code",
   "execution_count": null,
   "id": "679fc090",
   "metadata": {},
   "outputs": [],
   "source": [
    "the_result = combined_results(fit.result, posts)\n",
    "g = sns.jointplot(data=the_result, x=r'$M$', y=r'$\\chi$', hue='result', \n",
    "              kind='kde', fill=True, levels=[0.3,0.6,0.9], common_norm=False, alpha=0.7)\n",
    "\n",
    "g.fig.suptitle(\"Run with Median Sample Time Domain IMRPhenomXPHM\")\n",
    "g.fig.tight_layout()\n",
    "g.fig.subplots_adjust(top=0.95)\n",
    "\n",
    "fit.result.to_netcdf(f'{eventname}-Median-td-{waveform_name}.nc')\n",
    "plt.show()"
   ]
  },
  {
   "cell_type": "code",
   "execution_count": 110,
   "id": "fc8e93b6",
   "metadata": {},
   "outputs": [
    {
     "data": {
      "image/png": "[encoded data removed]",
      "text/plain": [
       "<Figure size 432x432 with 3 Axes>"
      ]
     },
     "metadata": {
      "needs_background": "light"
     },
     "output_type": "display_data"
    }
   ],
   "source": [
    "the_result = combined_results(fit.result, posts)\n",
    "g = sns.jointplot(data=the_result, x=r'$M$', y=r'$\\chi$', hue='result', \n",
    "              kind='kde', fill=True, levels=[0.3,0.6,0.9], common_norm=False, alpha=0.7)\n",
    "\n",
    "g.fig.suptitle(\"Run with Harrison Median Time Domain IMRPhenomPv2\")\n",
    "g.fig.tight_layout()\n",
    "g.fig.subplots_adjust(top=0.95)\n",
    "fit.result.to_netcdf(f'{eventname}-Harrison-td-{waveform_name}.nc')\n",
    "plt.show()"
   ]
  },
  {
   "cell_type": "code",
   "execution_count": 9,
   "id": "d2230abd",
   "metadata": {},
   "outputs": [
    {
     "data": {
      "image/png": "[encoded data removed]",
      "text/plain": [
       "<Figure size 432x432 with 3 Axes>"
      ]
     },
     "metadata": {
      "needs_background": "light"
     },
     "output_type": "display_data"
    }
   ],
   "source": [
    "the_result = combined_results(fit.result, posts)\n",
    "g = sns.jointplot(data=the_result, x=r'$M$', y=r'$\\chi$', hue='result', \n",
    "              kind='kde', fill=True, levels=[0.3,0.6,0.9], common_norm=False, alpha=0.7)\n",
    "\n",
    "g.fig.suptitle(\"Run with Median Sample Time Domain SEOBNR\")\n",
    "g.fig.tight_layout()\n",
    "g.fig.subplots_adjust(top=0.95)\n",
    "\n",
    "fit.result.to_netcdf(f'{eventname}-Median-td-{waveform_name}.nc')\n",
    "plt.show()"
   ]
  },
  {
   "cell_type": "code",
   "execution_count": 44,
   "id": "265414a1",
   "metadata": {},
   "outputs": [],
   "source": [
    "def get_quantile_samp(samps, col, q=0.5):\n",
    "    im = (samps[col] - samps[col].quantile(0.5)).abs().argmin()\n",
    "    median_samp = samps.iloc[im]\n",
    "    return median_samp"
   ]
  },
  {
   "cell_type": "code",
   "execution_count": 49,
   "id": "8a58a5f5",
   "metadata": {},
   "outputs": [
    {
     "data": {
      "text/plain": [
       "chirp_mass               31.147792\n",
       "mass_ratio                0.947932\n",
       "a_1                       0.476788\n",
       "a_2                       0.729939\n",
       "tilt_1                    0.980501\n",
       "                       ...        \n",
       "waveform_code                  101\n",
       "geocent_peak     1126259462.410554\n",
       "H1_peak          1126259462.422014\n",
       "L1_peak          1126259462.415101\n",
       "V1_peak          1126259462.423272\n",
       "Name: 266, Length: 143, dtype: object"
      ]
     },
     "execution_count": 49,
     "metadata": {},
     "output_type": "execute_result"
    }
   ],
   "source": [
    "get_quantile_samp(samps, 'luminosity_distance')"
   ]
  },
  {
   "cell_type": "code",
   "execution_count": 55,
   "id": "3b42d742",
   "metadata": {},
   "outputs": [],
   "source": [
    "import ringdown"
   ]
  },
  {
   "cell_type": "code",
   "execution_count": 57,
   "id": "8867c361",
   "metadata": {},
   "outputs": [
    {
     "data": {
      "text/plain": [
       "<function ringdown.model.chiq_exact_factors(chi, Q, bij, cij, Y0)>"
      ]
     },
     "execution_count": 57,
     "metadata": {},
     "output_type": "execute_result"
    }
   ],
   "source": [
    "ringdown.model.chiq_exact_factors"
   ]
  },
  {
   "cell_type": "code",
   "execution_count": null,
   "id": "53ea1939",
   "metadata": {},
   "outputs": [],
   "source": []
  }
 ],
 "metadata": {
  "kernelspec": {
   "display_name": "Python 3 (ipykernel)",
   "language": "python",
   "name": "python3"
  },
  "language_info": {
   "codemirror_mode": {
    "name": "ipython",
    "version": 3
   },
   "file_extension": ".py",
   "mimetype": "text/x-python",
   "name": "python",
   "nbconvert_exporter": "python",
   "pygments_lexer": "ipython3",
   "version": "3.8.8"
  }
 },
 "nbformat": 4,
 "nbformat_minor": 5
}
