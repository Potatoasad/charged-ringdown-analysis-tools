{
 "cells": [
  {
   "cell_type": "code",
   "execution_count": 1,
   "id": "89fac28b",
   "metadata": {},
   "outputs": [],
   "source": [
    "import ringdb\n",
    "\n",
    "db = ringdb.Database(\"../Data\")\n",
    "db.initialize()\n",
    "\n",
    "event = db.event(\"GW150914\")"
   ]
  },
  {
   "cell_type": "code",
   "execution_count": 2,
   "id": "72eb549a",
   "metadata": {},
   "outputs": [],
   "source": [
    "import ringdown"
   ]
  },
  {
   "cell_type": "code",
   "execution_count": null,
   "id": "e8d96eaa",
   "metadata": {},
   "outputs": [],
   "source": []
  },
  {
   "cell_type": "code",
   "execution_count": null,
   "id": "e2f9d8a8",
   "metadata": {},
   "outputs": [],
   "source": []
  }
 ],
 "metadata": {
  "kernelspec": {
   "display_name": "Python 3",
   "language": "python",
   "name": "python3"
  },
  "language_info": {
   "codemirror_mode": {
    "name": "ipython",
    "version": 3
   },
   "file_extension": ".py",
   "mimetype": "text/x-python",
   "name": "python",
   "nbconvert_exporter": "python",
   "pygments_lexer": "ipython3",
   "version": "3.8.8"
  }
 },
 "nbformat": 4,
 "nbformat_minor": 5
}
