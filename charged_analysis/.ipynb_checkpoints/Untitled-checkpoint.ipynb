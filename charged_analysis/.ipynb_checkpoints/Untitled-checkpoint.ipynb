{
 "cells": [
  {
   "cell_type": "code",
   "execution_count": 36,
   "id": "23a6babb",
   "metadata": {},
   "outputs": [],
   "source": [
    "from exact_coeffs import interpolation_coeffs\n",
    "import numpy as np\n",
    "import aesara.tensor as at"
   ]
  },
  {
   "cell_type": "code",
   "execution_count": 18,
   "id": "d1639538",
   "metadata": {},
   "outputs": [],
   "source": [
    "def chiq_exact_factors(chi, Q, bij, cij, Y0):\n",
    "    bij = at.as_tensor_variable\n",
    "    chi_Q = np.array([[(chi**j) * (Q**i) for i in range(4)] for j in range(4)])\n",
    "    chi_Q\n",
    "    return np.array([Y0[mode] * np.sum(bij[mode]*chi_Q) / np.sum(cij[mode]*chi_Q) for mode in range(len(bij))])\n",
    "\n",
    "def chiq_exact_factors(chi, Q, Y0_bij, cij):\n",
    "    chi_Q = at.as_tensor_variable([[(chi**0) * (Q**0),(chi**0) * (Q**1),(chi**0) * (Q**2),(chi**0) * (Q**3)],\n",
    "                                     [(chi**1) * (Q**0),(chi**1) * (Q**1),(chi**1) * (Q**2),(chi**1) * (Q**3)],\n",
    "                                     [(chi**2) * (Q**0),(chi**2) * (Q**1),(chi**2) * (Q**2),(chi**2) * (Q**3)],\n",
    "                                     [(chi**3) * (Q**0),(chi**3) * (Q**1),(chi**3) * (Q**2),(chi**3) * (Q**3)]])\n",
    "    \n",
    "    return at.tensordot(Y0_bij, chi_Q,axes=[[1,2],[0,1]])/(at.tensordot(cij, chi_Q,axes=[[1,2],[0,1]]))\n",
    "\n",
    "\n",
    "def chi_factors(chi, coeffs):\n",
    "    log1mc = at.log1p(-chi)\n",
    "    log1mc2 = log1mc*log1mc\n",
    "    log1mc3 = log1mc2*log1mc\n",
    "    log1mc4 = log1mc2*log1mc2\n",
    "    v = at.stack([chi, at.as_tensor_variable(1.0), log1mc, log1mc2,\n",
    "                  log1mc3, log1mc4])\n",
    "\n",
    "    return at.dot(coeffs, v)"
   ]
  },
  {
   "cell_type": "code",
   "execution_count": 47,
   "id": "837aad6b",
   "metadata": {},
   "outputs": [
    {
     "data": {
      "text/plain": [
       "chi_q"
      ]
     },
     "execution_count": 47,
     "metadata": {},
     "output_type": "execute_result"
    }
   ],
   "source": [
    "chi=0.1; Q=0.1\n",
    "M = at.matrix('chi_q')\n",
    "M."
   ]
  },
  {
   "cell_type": "code",
   "execution_count": 55,
   "id": "1f6eb860",
   "metadata": {},
   "outputs": [
    {
     "data": {
      "text/plain": [
       "array(105.59658489)"
      ]
     },
     "execution_count": 55,
     "metadata": {},
     "output_type": "execute_result"
    }
   ],
   "source": [
    "s = (at.as_tensor_variable(omegas['bij'][0])*at.as_tensor_variable(omegas['bij'][0])).sum()\n"
   ]
  },
  {
   "cell_type": "code",
   "execution_count": 56,
   "id": "dc8e03ce",
   "metadata": {},
   "outputs": [
    {
     "data": {
      "text/plain": [
       "105.59658488648"
      ]
     },
     "execution_count": 56,
     "metadata": {},
     "output_type": "execute_result"
    }
   ],
   "source": [
    "(np.array(omegas['bij'][0])*np.array(omegas['bij'][0])).sum()"
   ]
  },
  {
   "cell_type": "code",
   "execution_count": 141,
   "id": "3d337e1e",
   "metadata": {},
   "outputs": [
    {
     "data": {
      "text/plain": [
       "array([1550.0039498 , 1516.58866255])"
      ]
     },
     "execution_count": 141,
     "metadata": {},
     "output_type": "execute_result"
    }
   ],
   "source": [
    "FREF = 2985.668287014743\n",
    "MREF = 68.0\n",
    "\n",
    "M = 70.0\n",
    "f0 = FREF*MREF/M\n",
    "\n",
    "#f = f0*(chiq_exact_factors(chi, Q_charge, b_omega, c_omega, Y0_omega))\n",
    "#gamma = f0*(chiq_exact_factors(chi, Q_charge, b_gamma, c_gamma, Y0_gamma))\n",
    "\n",
    "chi = 0.7\n",
    "Q_charge = 0.1\n",
    "\n",
    "omegas = {'bij': interpolation_coeffs['b_omega'], \n",
    "          'cij': interpolation_coeffs['c_omega'], \n",
    "          'Y0': interpolation_coeffs['Y0_omega']}\n",
    "\n",
    "gammas = {'bij': interpolation_coeffs['b_gamma'], \n",
    "          'cij': interpolation_coeffs['c_gamma'], \n",
    "          'Y0': interpolation_coeffs['Y0_gamma']}\n",
    "\n",
    "f_exact = f0*(chiq_exact_factors(chi, Q_charge, **omegas))\n",
    "gamma_exact = f0*(chiq_exact_factors(chi, Q_charge, **gammas))\n",
    "\n",
    "#f_approx = f0*(chi_factors(chi, f_coeffs) + q*chi_factors(chi, df_coeffs))\n",
    "#gamma_approx = f0*(chi_factors(chi, g_coeffs) + q*chi_factors(chi, dg_coeffs))\n",
    "f_exact"
   ]
  },
  {
   "cell_type": "code",
   "execution_count": 140,
   "id": "58e33c5f",
   "metadata": {},
   "outputs": [
    {
     "data": {
      "text/plain": [
       "array([1550.0039498 , 1516.58866255])"
      ]
     },
     "execution_count": 140,
     "metadata": {},
     "output_type": "execute_result"
    }
   ],
   "source": [
    "[[f\"(chi**{j}) * (Q**{i})\" for i in range(4)] for j in range(4)]\n",
    "\n",
    "chi=0.7\n",
    "Q=0.1\n",
    "chi_Q = at.as_tensor_variable([[(chi**0) * (Q**0),(chi**0) * (Q**1),(chi**0) * (Q**2),(chi**0) * (Q**3)],\n",
    " [(chi**1) * (Q**0),(chi**1) * (Q**1),(chi**1) * (Q**2),(chi**1) * (Q**3)],\n",
    " [(chi**2) * (Q**0),(chi**2) * (Q**1),(chi**2) * (Q**2),(chi**2) * (Q**3)],\n",
    " [(chi**3) * (Q**0),(chi**3) * (Q**1),(chi**3) * (Q**2),(chi**3) * (Q**3)]])\n",
    "\n",
    "Y0_bij = at.as_tensor_variable([omegas['Y0'][mode]*np.array(omegas['bij'][mode]) for mode in range(len(omegas['bij']))])\n",
    "cij = at.as_tensor_variable(omegas['cij'])\n",
    "\n",
    "f0*(at.tensordot(Y0_bij, chi_Q,axes=[[1,2],[0,1]])/(at.tensordot(cij, chi_Q,axes=[[1,2],[0,1]]))).eval()"
   ]
  },
  {
   "cell_type": "code",
   "execution_count": 111,
   "id": "5f13e39d",
   "metadata": {},
   "outputs": [
    {
     "data": {
      "text/plain": [
       "array(0.537583)"
      ]
     },
     "execution_count": 111,
     "metadata": {},
     "output_type": "execute_result"
    }
   ],
   "source": [
    "bij[0,0,1].eval()"
   ]
  },
  {
   "cell_type": "code",
   "execution_count": 139,
   "id": "f72c9863",
   "metadata": {},
   "outputs": [
    {
     "data": {
      "text/plain": [
       "array([1344.40394417, 1246.72952314])"
      ]
     },
     "execution_count": 139,
     "metadata": {},
     "output_type": "execute_result"
    }
   ],
   "source": []
  },
  {
   "cell_type": "code",
   "execution_count": 90,
   "id": "969bb9ce",
   "metadata": {},
   "outputs": [
    {
     "data": {
      "text/plain": [
       "TensorConstant{[2 4 4]}"
      ]
     },
     "execution_count": 90,
     "metadata": {},
     "output_type": "execute_result"
    }
   ],
   "source": [
    "bij.shape"
   ]
  },
  {
   "cell_type": "code",
   "execution_count": 128,
   "id": "4601cfd7",
   "metadata": {},
   "outputs": [
    {
     "data": {
      "text/plain": [
       "array([0.37367168, 0.34671099])"
      ]
     },
     "execution_count": 128,
     "metadata": {},
     "output_type": "execute_result"
    }
   ],
   "source": [
    "Y0.eval()"
   ]
  },
  {
   "cell_type": "code",
   "execution_count": 96,
   "id": "4422a242",
   "metadata": {},
   "outputs": [
    {
     "data": {
      "text/plain": [
       "TensorConstant{(2,) of 4}"
      ]
     },
     "execution_count": 96,
     "metadata": {},
     "output_type": "execute_result"
    }
   ],
   "source": [
    "chi_Q.shape"
   ]
  },
  {
   "cell_type": "code",
   "execution_count": 131,
   "id": "cc7d88f9",
   "metadata": {},
   "outputs": [
    {
     "name": "stderr",
     "output_type": "stream",
     "text": [
      "ERROR (aesara.graph.opt): Optimization failure due to: constant_folding\n",
      "ERROR (aesara.graph.opt): node: dot(TensorConstant{[[0.373671..34671099]]}, TensorConstant{[[ 1.     ..0.838109]]})\n",
      "ERROR (aesara.graph.opt): TRACEBACK:\n",
      "ERROR (aesara.graph.opt): Traceback (most recent call last):\n",
      "  File \"/Users/asadh/Documents/GitHub/ringdb_test_venv/lib/python3.8/site-packages/aesara/graph/opt.py\", line 1861, in process_node\n",
      "    replacements = lopt.transform(fgraph, node)\n",
      "  File \"/Users/asadh/Documents/GitHub/ringdb_test_venv/lib/python3.8/site-packages/aesara/graph/opt.py\", line 1066, in transform\n",
      "    return self.fn(fgraph, node)\n",
      "  File \"/Users/asadh/Documents/GitHub/ringdb_test_venv/lib/python3.8/site-packages/aesara/tensor/basic_opt.py\", line 2785, in constant_folding\n",
      "    required = thunk()\n",
      "  File \"/Users/asadh/Documents/GitHub/ringdb_test_venv/lib/python3.8/site-packages/aesara/graph/op.py\", line 543, in rval\n",
      "    r = p(n, [x[0] for x in i], o)\n",
      "  File \"/Users/asadh/Documents/GitHub/ringdb_test_venv/lib/python3.8/site-packages/aesara/tensor/math.py\", line 1930, in perform\n",
      "    z[0] = np.asarray(np.dot(x, y))\n",
      "  File \"<__array_function__ internals>\", line 180, in dot\n",
      "ValueError: shapes (1,2) and (4,8) not aligned: 2 (dim 1) != 4 (dim 0)\n",
      "\n",
      "ERROR (aesara.graph.opt): Optimization failure due to: constant_folding\n",
      "ERROR (aesara.graph.opt): node: dot(TensorConstant{[[0.373671..34671099]]}, TensorConstant{[[ 1.     ..0.838109]]})\n",
      "ERROR (aesara.graph.opt): TRACEBACK:\n",
      "ERROR (aesara.graph.opt): Traceback (most recent call last):\n",
      "  File \"/Users/asadh/Documents/GitHub/ringdb_test_venv/lib/python3.8/site-packages/aesara/graph/opt.py\", line 1861, in process_node\n",
      "    replacements = lopt.transform(fgraph, node)\n",
      "  File \"/Users/asadh/Documents/GitHub/ringdb_test_venv/lib/python3.8/site-packages/aesara/graph/opt.py\", line 1066, in transform\n",
      "    return self.fn(fgraph, node)\n",
      "  File \"/Users/asadh/Documents/GitHub/ringdb_test_venv/lib/python3.8/site-packages/aesara/tensor/basic_opt.py\", line 2785, in constant_folding\n",
      "    required = thunk()\n",
      "  File \"/Users/asadh/Documents/GitHub/ringdb_test_venv/lib/python3.8/site-packages/aesara/graph/op.py\", line 543, in rval\n",
      "    r = p(n, [x[0] for x in i], o)\n",
      "  File \"/Users/asadh/Documents/GitHub/ringdb_test_venv/lib/python3.8/site-packages/aesara/tensor/math.py\", line 1930, in perform\n",
      "    z[0] = np.asarray(np.dot(x, y))\n",
      "  File \"<__array_function__ internals>\", line 180, in dot\n",
      "ValueError: shapes (1,2) and (4,8) not aligned: 2 (dim 1) != 4 (dim 0)\n",
      "\n",
      "ERROR (aesara.graph.opt): Optimization failure due to: constant_folding\n",
      "ERROR (aesara.graph.opt): node: dot(TensorConstant{[[0.373671..34671099]]}, TensorConstant{[[ 1.     ..0.838109]]})\n",
      "ERROR (aesara.graph.opt): TRACEBACK:\n",
      "ERROR (aesara.graph.opt): Traceback (most recent call last):\n",
      "  File \"/Users/asadh/Documents/GitHub/ringdb_test_venv/lib/python3.8/site-packages/aesara/graph/opt.py\", line 1861, in process_node\n",
      "    replacements = lopt.transform(fgraph, node)\n",
      "  File \"/Users/asadh/Documents/GitHub/ringdb_test_venv/lib/python3.8/site-packages/aesara/graph/opt.py\", line 1066, in transform\n",
      "    return self.fn(fgraph, node)\n",
      "  File \"/Users/asadh/Documents/GitHub/ringdb_test_venv/lib/python3.8/site-packages/aesara/tensor/basic_opt.py\", line 2785, in constant_folding\n",
      "    required = thunk()\n",
      "  File \"/Users/asadh/Documents/GitHub/ringdb_test_venv/lib/python3.8/site-packages/aesara/graph/op.py\", line 543, in rval\n",
      "    r = p(n, [x[0] for x in i], o)\n",
      "  File \"/Users/asadh/Documents/GitHub/ringdb_test_venv/lib/python3.8/site-packages/aesara/tensor/math.py\", line 1930, in perform\n",
      "    z[0] = np.asarray(np.dot(x, y))\n",
      "  File \"<__array_function__ internals>\", line 180, in dot\n",
      "ValueError: shapes (1,2) and (4,8) not aligned: 2 (dim 1) != 4 (dim 0)\n",
      "\n",
      "ERROR (aesara.graph.opt): Optimization failure due to: constant_folding\n",
      "ERROR (aesara.graph.opt): node: dot(TensorConstant{[[0.373671..34671099]]}, TensorConstant{[[ 1.     ..0.838109]]})\n",
      "ERROR (aesara.graph.opt): TRACEBACK:\n",
      "ERROR (aesara.graph.opt): Traceback (most recent call last):\n",
      "  File \"/Users/asadh/Documents/GitHub/ringdb_test_venv/lib/python3.8/site-packages/aesara/graph/opt.py\", line 1861, in process_node\n",
      "    replacements = lopt.transform(fgraph, node)\n",
      "  File \"/Users/asadh/Documents/GitHub/ringdb_test_venv/lib/python3.8/site-packages/aesara/graph/opt.py\", line 1066, in transform\n",
      "    return self.fn(fgraph, node)\n",
      "  File \"/Users/asadh/Documents/GitHub/ringdb_test_venv/lib/python3.8/site-packages/aesara/tensor/basic_opt.py\", line 2785, in constant_folding\n",
      "    required = thunk()\n",
      "  File \"/Users/asadh/Documents/GitHub/ringdb_test_venv/lib/python3.8/site-packages/aesara/graph/op.py\", line 543, in rval\n",
      "    r = p(n, [x[0] for x in i], o)\n",
      "  File \"/Users/asadh/Documents/GitHub/ringdb_test_venv/lib/python3.8/site-packages/aesara/tensor/math.py\", line 1930, in perform\n",
      "    z[0] = np.asarray(np.dot(x, y))\n",
      "  File \"<__array_function__ internals>\", line 180, in dot\n",
      "ValueError: shapes (1,2) and (4,8) not aligned: 2 (dim 1) != 4 (dim 0)\n",
      "\n"
     ]
    },
    {
     "ename": "ValueError",
     "evalue": "Shape mismatch: A.shape[1] != x.shape[0]\nApply node that caused the error: CGemv{inplace}(AllocEmpty{dtype='float64'}.0, TensorConstant{1.0}, TensorConstant{[[ 1.     ..0.838109]]}, TensorConstant{[0.3736716...34671099]}, TensorConstant{0.0})\nToposort index: 1\nInputs types: [TensorType(float64, (None,)), TensorType(float64, ()), TensorType(float64, (8, 4)), TensorType(float64, (2,)), TensorType(float64, ())]\nInputs shapes: [(8,), (), (8, 4), (2,), ()]\nInputs strides: [(8,), (), (8, 64), (8,), ()]\nInputs values: ['not shown', array(1.), 'not shown', array([0.37367168, 0.34671099]), array(0.)]\nOutputs clients: [[Reshape{2}(CGemv{inplace}.0, TensorConstant{[2 4]})]]\n\nHINT: Re-running with most Aesara optimizations disabled could provide a back-trace showing when this node was created. This can be done by setting the Aesara flag 'optimizer=fast_compile'. If that does not work, Aesara optimizations can be disabled with 'optimizer=None'.\nHINT: Use the Aesara flag `exception_verbosity=high` for a debug print-out and storage map footprint of this Apply node.",
     "output_type": "error",
     "traceback": [
      "\u001b[0;31m---------------------------------------------------------------------------\u001b[0m",
      "\u001b[0;31mValueError\u001b[0m                                Traceback (most recent call last)",
      "File \u001b[0;32m~/Documents/GitHub/ringdb_test_venv/lib/python3.8/site-packages/aesara/compile/function/types.py:975\u001b[0m, in \u001b[0;36mFunction.__call__\u001b[0;34m(self, *args, **kwargs)\u001b[0m\n\u001b[1;32m    973\u001b[0m \u001b[38;5;28;01mtry\u001b[39;00m:\n\u001b[1;32m    974\u001b[0m     outputs \u001b[38;5;241m=\u001b[39m (\n\u001b[0;32m--> 975\u001b[0m         \u001b[38;5;28;43mself\u001b[39;49m\u001b[38;5;241;43m.\u001b[39;49m\u001b[43mvm\u001b[49m\u001b[43m(\u001b[49m\u001b[43m)\u001b[49m\n\u001b[1;32m    976\u001b[0m         \u001b[38;5;28;01mif\u001b[39;00m output_subset \u001b[38;5;129;01mis\u001b[39;00m \u001b[38;5;28;01mNone\u001b[39;00m\n\u001b[1;32m    977\u001b[0m         \u001b[38;5;28;01melse\u001b[39;00m \u001b[38;5;28mself\u001b[39m\u001b[38;5;241m.\u001b[39mvm(output_subset\u001b[38;5;241m=\u001b[39moutput_subset)\n\u001b[1;32m    978\u001b[0m     )\n\u001b[1;32m    979\u001b[0m \u001b[38;5;28;01mexcept\u001b[39;00m \u001b[38;5;167;01mException\u001b[39;00m:\n",
      "\u001b[0;31mValueError\u001b[0m: Shape mismatch: A.shape[1] != x.shape[0]",
      "\nDuring handling of the above exception, another exception occurred:\n",
      "\u001b[0;31mValueError\u001b[0m                                Traceback (most recent call last)",
      "Input \u001b[0;32mIn [131]\u001b[0m, in \u001b[0;36m<cell line: 1>\u001b[0;34m()\u001b[0m\n\u001b[0;32m----> 1\u001b[0m \u001b[43mat\u001b[49m\u001b[38;5;241;43m.\u001b[39;49m\u001b[43mdot\u001b[49m\u001b[43m(\u001b[49m\u001b[43mY0\u001b[49m\u001b[43m,\u001b[49m\u001b[43m \u001b[49m\u001b[43mbij\u001b[49m\u001b[43m)\u001b[49m\u001b[38;5;241;43m.\u001b[39;49m\u001b[43meval\u001b[49m\u001b[43m(\u001b[49m\u001b[43m)\u001b[49m\n",
      "File \u001b[0;32m~/Documents/GitHub/ringdb_test_venv/lib/python3.8/site-packages/aesara/graph/basic.py:602\u001b[0m, in \u001b[0;36mVariable.eval\u001b[0;34m(self, inputs_to_values)\u001b[0m\n\u001b[1;32m    599\u001b[0m     \u001b[38;5;28mself\u001b[39m\u001b[38;5;241m.\u001b[39m_fn_cache[inputs] \u001b[38;5;241m=\u001b[39m function(inputs, \u001b[38;5;28mself\u001b[39m)\n\u001b[1;32m    600\u001b[0m args \u001b[38;5;241m=\u001b[39m [inputs_to_values[param] \u001b[38;5;28;01mfor\u001b[39;00m param \u001b[38;5;129;01min\u001b[39;00m inputs]\n\u001b[0;32m--> 602\u001b[0m rval \u001b[38;5;241m=\u001b[39m \u001b[38;5;28;43mself\u001b[39;49m\u001b[38;5;241;43m.\u001b[39;49m\u001b[43m_fn_cache\u001b[49m\u001b[43m[\u001b[49m\u001b[43minputs\u001b[49m\u001b[43m]\u001b[49m\u001b[43m(\u001b[49m\u001b[38;5;241;43m*\u001b[39;49m\u001b[43margs\u001b[49m\u001b[43m)\u001b[49m\n\u001b[1;32m    604\u001b[0m \u001b[38;5;28;01mreturn\u001b[39;00m rval\n",
      "File \u001b[0;32m~/Documents/GitHub/ringdb_test_venv/lib/python3.8/site-packages/aesara/compile/function/types.py:988\u001b[0m, in \u001b[0;36mFunction.__call__\u001b[0;34m(self, *args, **kwargs)\u001b[0m\n\u001b[1;32m    986\u001b[0m     \u001b[38;5;28;01mif\u001b[39;00m \u001b[38;5;28mhasattr\u001b[39m(\u001b[38;5;28mself\u001b[39m\u001b[38;5;241m.\u001b[39mvm, \u001b[38;5;124m\"\u001b[39m\u001b[38;5;124mthunks\u001b[39m\u001b[38;5;124m\"\u001b[39m):\n\u001b[1;32m    987\u001b[0m         thunk \u001b[38;5;241m=\u001b[39m \u001b[38;5;28mself\u001b[39m\u001b[38;5;241m.\u001b[39mvm\u001b[38;5;241m.\u001b[39mthunks[\u001b[38;5;28mself\u001b[39m\u001b[38;5;241m.\u001b[39mvm\u001b[38;5;241m.\u001b[39mposition_of_error]\n\u001b[0;32m--> 988\u001b[0m     \u001b[43mraise_with_op\u001b[49m\u001b[43m(\u001b[49m\n\u001b[1;32m    989\u001b[0m \u001b[43m        \u001b[49m\u001b[38;5;28;43mself\u001b[39;49m\u001b[38;5;241;43m.\u001b[39;49m\u001b[43mmaker\u001b[49m\u001b[38;5;241;43m.\u001b[39;49m\u001b[43mfgraph\u001b[49m\u001b[43m,\u001b[49m\n\u001b[1;32m    990\u001b[0m \u001b[43m        \u001b[49m\u001b[43mnode\u001b[49m\u001b[38;5;241;43m=\u001b[39;49m\u001b[38;5;28;43mself\u001b[39;49m\u001b[38;5;241;43m.\u001b[39;49m\u001b[43mvm\u001b[49m\u001b[38;5;241;43m.\u001b[39;49m\u001b[43mnodes\u001b[49m\u001b[43m[\u001b[49m\u001b[38;5;28;43mself\u001b[39;49m\u001b[38;5;241;43m.\u001b[39;49m\u001b[43mvm\u001b[49m\u001b[38;5;241;43m.\u001b[39;49m\u001b[43mposition_of_error\u001b[49m\u001b[43m]\u001b[49m\u001b[43m,\u001b[49m\n\u001b[1;32m    991\u001b[0m \u001b[43m        \u001b[49m\u001b[43mthunk\u001b[49m\u001b[38;5;241;43m=\u001b[39;49m\u001b[43mthunk\u001b[49m\u001b[43m,\u001b[49m\n\u001b[1;32m    992\u001b[0m \u001b[43m        \u001b[49m\u001b[43mstorage_map\u001b[49m\u001b[38;5;241;43m=\u001b[39;49m\u001b[38;5;28;43mgetattr\u001b[39;49m\u001b[43m(\u001b[49m\u001b[38;5;28;43mself\u001b[39;49m\u001b[38;5;241;43m.\u001b[39;49m\u001b[43mvm\u001b[49m\u001b[43m,\u001b[49m\u001b[43m \u001b[49m\u001b[38;5;124;43m\"\u001b[39;49m\u001b[38;5;124;43mstorage_map\u001b[39;49m\u001b[38;5;124;43m\"\u001b[39;49m\u001b[43m,\u001b[49m\u001b[43m \u001b[49m\u001b[38;5;28;43;01mNone\u001b[39;49;00m\u001b[43m)\u001b[49m\u001b[43m,\u001b[49m\n\u001b[1;32m    993\u001b[0m \u001b[43m    \u001b[49m\u001b[43m)\u001b[49m\n\u001b[1;32m    994\u001b[0m \u001b[38;5;28;01melse\u001b[39;00m:\n\u001b[1;32m    995\u001b[0m     \u001b[38;5;66;03m# old-style linkers raise their own exceptions\u001b[39;00m\n\u001b[1;32m    996\u001b[0m     \u001b[38;5;28;01mraise\u001b[39;00m\n",
      "File \u001b[0;32m~/Documents/GitHub/ringdb_test_venv/lib/python3.8/site-packages/aesara/link/utils.py:534\u001b[0m, in \u001b[0;36mraise_with_op\u001b[0;34m(fgraph, node, thunk, exc_info, storage_map)\u001b[0m\n\u001b[1;32m    529\u001b[0m     warnings\u001b[38;5;241m.\u001b[39mwarn(\n\u001b[1;32m    530\u001b[0m         \u001b[38;5;124mf\u001b[39m\u001b[38;5;124m\"\u001b[39m\u001b[38;5;132;01m{\u001b[39;00mexc_type\u001b[38;5;132;01m}\u001b[39;00m\u001b[38;5;124m error does not allow us to add an extra error message\u001b[39m\u001b[38;5;124m\"\u001b[39m\n\u001b[1;32m    531\u001b[0m     )\n\u001b[1;32m    532\u001b[0m     \u001b[38;5;66;03m# Some exception need extra parameter in inputs. So forget the\u001b[39;00m\n\u001b[1;32m    533\u001b[0m     \u001b[38;5;66;03m# extra long error message in that case.\u001b[39;00m\n\u001b[0;32m--> 534\u001b[0m \u001b[38;5;28;01mraise\u001b[39;00m exc_value\u001b[38;5;241m.\u001b[39mwith_traceback(exc_trace)\n",
      "File \u001b[0;32m~/Documents/GitHub/ringdb_test_venv/lib/python3.8/site-packages/aesara/compile/function/types.py:975\u001b[0m, in \u001b[0;36mFunction.__call__\u001b[0;34m(self, *args, **kwargs)\u001b[0m\n\u001b[1;32m    972\u001b[0m t0_fn \u001b[38;5;241m=\u001b[39m time\u001b[38;5;241m.\u001b[39mtime()\n\u001b[1;32m    973\u001b[0m \u001b[38;5;28;01mtry\u001b[39;00m:\n\u001b[1;32m    974\u001b[0m     outputs \u001b[38;5;241m=\u001b[39m (\n\u001b[0;32m--> 975\u001b[0m         \u001b[38;5;28;43mself\u001b[39;49m\u001b[38;5;241;43m.\u001b[39;49m\u001b[43mvm\u001b[49m\u001b[43m(\u001b[49m\u001b[43m)\u001b[49m\n\u001b[1;32m    976\u001b[0m         \u001b[38;5;28;01mif\u001b[39;00m output_subset \u001b[38;5;129;01mis\u001b[39;00m \u001b[38;5;28;01mNone\u001b[39;00m\n\u001b[1;32m    977\u001b[0m         \u001b[38;5;28;01melse\u001b[39;00m \u001b[38;5;28mself\u001b[39m\u001b[38;5;241m.\u001b[39mvm(output_subset\u001b[38;5;241m=\u001b[39moutput_subset)\n\u001b[1;32m    978\u001b[0m     )\n\u001b[1;32m    979\u001b[0m \u001b[38;5;28;01mexcept\u001b[39;00m \u001b[38;5;167;01mException\u001b[39;00m:\n\u001b[1;32m    980\u001b[0m     restore_defaults()\n",
      "\u001b[0;31mValueError\u001b[0m: Shape mismatch: A.shape[1] != x.shape[0]\nApply node that caused the error: CGemv{inplace}(AllocEmpty{dtype='float64'}.0, TensorConstant{1.0}, TensorConstant{[[ 1.     ..0.838109]]}, TensorConstant{[0.3736716...34671099]}, TensorConstant{0.0})\nToposort index: 1\nInputs types: [TensorType(float64, (None,)), TensorType(float64, ()), TensorType(float64, (8, 4)), TensorType(float64, (2,)), TensorType(float64, ())]\nInputs shapes: [(8,), (), (8, 4), (2,), ()]\nInputs strides: [(8,), (), (8, 64), (8,), ()]\nInputs values: ['not shown', array(1.), 'not shown', array([0.37367168, 0.34671099]), array(0.)]\nOutputs clients: [[Reshape{2}(CGemv{inplace}.0, TensorConstant{[2 4]})]]\n\nHINT: Re-running with most Aesara optimizations disabled could provide a back-trace showing when this node was created. This can be done by setting the Aesara flag 'optimizer=fast_compile'. If that does not work, Aesara optimizations can be disabled with 'optimizer=None'.\nHINT: Use the Aesara flag `exception_verbosity=high` for a debug print-out and storage map footprint of this Apply node."
     ]
    }
   ],
   "source": [
    "at.dot(Y0, bij).eval()"
   ]
  },
  {
   "cell_type": "code",
   "execution_count": 120,
   "id": "504298bf",
   "metadata": {},
   "outputs": [
    {
     "data": {
      "text/plain": [
       "Elemwise{mul,no_inplace}.0"
      ]
     },
     "execution_count": 120,
     "metadata": {},
     "output_type": "execute_result"
    }
   ],
   "source": [
    "Y0*(at.tensordot(bij, chi_Q,axes=[[1,2],[0,1]])/(at.tensordot(cij, chi_Q,axes=[[1,2],[0,1]])))"
   ]
  },
  {
   "cell_type": "code",
   "execution_count": 29,
   "id": "5e1198d1",
   "metadata": {},
   "outputs": [
    {
     "name": "stdout",
     "output_type": "stream",
     "text": [
      "CPU times: user 807 µs, sys: 1e+03 ns, total: 808 µs\n",
      "Wall time: 818 µs\n"
     ]
    }
   ],
   "source": [
    "%%time\n",
    "f_exact = f0*(chiq_exact_factors(0.9999/(2**0.5), 0.9999/(2**0.5), **omegas))\n",
    "gamma_exact = f0*(chiq_exact_factors(0.9999/(2**0.5), 0.9999/(2**0.5), **gammas))"
   ]
  },
  {
   "cell_type": "code",
   "execution_count": 30,
   "id": "5ca0dcc8",
   "metadata": {},
   "outputs": [
    {
     "data": {
      "text/plain": [
       "array([0.02417134, 0.00584769])"
      ]
     },
     "execution_count": 30,
     "metadata": {},
     "output_type": "execute_result"
    }
   ],
   "source": [
    "1/gamma_exact"
   ]
  },
  {
   "cell_type": "code",
   "execution_count": 31,
   "id": "a1f4c2e5",
   "metadata": {},
   "outputs": [
    {
     "data": {
      "text/plain": [
       "array([3.05891366e-05, 9.41693797e-05])"
      ]
     },
     "execution_count": 31,
     "metadata": {},
     "output_type": "execute_result"
    }
   ],
   "source": [
    "1/f0*(chiq_exact_factors(0.1, 0.1, **gammas))"
   ]
  },
  {
   "cell_type": "code",
   "execution_count": null,
   "id": "7cf5d0b5",
   "metadata": {},
   "outputs": [],
   "source": []
  }
 ],
 "metadata": {
  "kernelspec": {
   "display_name": "Python 3 (ipykernel)",
   "language": "python",
   "name": "python3"
  },
  "language_info": {
   "codemirror_mode": {
    "name": "ipython",
    "version": 3
   },
   "file_extension": ".py",
   "mimetype": "text/x-python",
   "name": "python",
   "nbconvert_exporter": "python",
   "pygments_lexer": "ipython3",
   "version": "3.8.8"
  }
 },
 "nbformat": 4,
 "nbformat_minor": 5
}
