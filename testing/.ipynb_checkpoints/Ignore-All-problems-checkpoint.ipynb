{
 "cells": [
  {
   "cell_type": "markdown",
   "id": "0b8f08b8",
   "metadata": {},
   "source": [
    "# Hierarcichal Modeling (Ignoring all boundedness problems)\n",
    "\n",
    "We're modelling the following system. We have \"available\" to us the probability distributions of $Q$ and $\\chi$ for each event we observed. We ask: What \"population\" distribution did these events get their values from?\n",
    "\n",
    "Let's model that \"population\" distribution. It will have 4 parameters $\\Lambda = \\{\\mu_Q, \\sigma_Q, \\mu_\\chi, \\sigma_\\chi\\}$ and probability distribution:\n",
    "\n",
    "$$\n",
    "p(\\chi,Q | \\Lambda) = \\phi(Q|\\mu_Q,\\sigma_Q)\\phi(\\chi|\\mu_\\chi,\\sigma_\\chi)\n",
    "$$\n",
    "\n",
    "We then also set our prior estimate:\n",
    "\n",
    "$$\n",
    "\\mu_Q \\sim \\mathcal{N}(0,1) \\\\\n",
    "\\sigma_Q \\sim F\\mathcal{N}(0,1) \\\\\n",
    "\\mu_\\chi \\sim \\mathcal{N}(\\chi_*,1) \\\\\n",
    "\\sigma_\\chi \\sim F\\mathcal{N}(0,1) \\\\\n",
    "$$\n",
    "\n",
    "Our aim is to get posterior distributions over the $\\Lambda$ parameters. \n",
    "\n",
    "$$\n",
    "p(\\Lambda | d) \\propto \\prod_{\\textrm{e} \\in \\textrm{events}} \\int p(Q,\\chi | d_e)\\frac{p(Q, \\chi | \\Lambda)}{p_{\\emptyset}(Q,\\chi)} dQ d\\chi\n",
    "$$ \n",
    "\n",
    "Now lets say we have a Gaussian Mixture Model (GMM) estimate of $p(Q,\\chi | d_e)$. i.e.:\n",
    "\n",
    "$$\n",
    "p(Q,\\chi | d_e) = \\frac{1}{N_e}\\sum_j w^e_j \\phi(Q,\\chi | \\vec{\\mu}_i, \\mathbf{\\sigma}_i)\n",
    "$$\n",
    "\n",
    "The GMM is completely defined by a list of vectors $\\vec{\\mu}_i$ and covariance matrices $\\mathbf{\\sigma}_i$\n",
    "\n",
    "We can analytically write the final distribution since $p_{\\emptyset} \\propto 1$\n",
    "\n",
    "$$\n",
    "p(Q,\\chi | d) = \\prod_{e} (\\sum_j w^e_j \\int \\phi(Q,\\chi | \\vec{\\mu}_i, \\mathbf{\\sigma}_i) \\phi(Q,\\chi|[\\mu_Q,\\mu_\\chi],\\sigma_\\Lambda)dQd\\chi)\n",
    "$$\n",
    "\n",
    "$$\n",
    "p(Q,\\chi | d) = \\prod_{e} (\\sum_j w^e_j \\phi(\\mu_Q,\\mu_\\chi | \\vec{\\mu}_i, \\mathbf{\\sigma}_i + \\sigma_\\Lambda)) \\int  \\phi(Q,\\chi | m_c, \\sigma_c)dQd\\chi)\n",
    "$$\n",
    "\n",
    "where $m_c$ and $\\sigma_c$ are given in http://compbio.fmph.uniba.sk/vyuka/ml/old/2008/handouts/matrix-cookbook.pdf section 8.1.8. \n",
    "\n",
    "> We will assume the integral can be extended to infinite extent. Hence $\\int\\phi(Q,\\chi | m_c, \\sigma_c)dQd\\chi = 1$\n",
    "\n",
    "This means we can just write down the final distribution:\n",
    "\n",
    "$$\n",
    "p(Q,\\chi | d) = \\prod_{e} (\\sum_j w^e_j \\phi(\\mu_Q,\\mu_\\chi | \\vec{\\mu}_i, \\mathbf{\\sigma}_i + \\sigma_\\Lambda) )\n",
    "$$\n",
    "\n",
    "We will do this in multiple steps. \n",
    "\n",
    "1. Use the posterior samples from each event to build a Gaussian Mixture Model (GMM) to approximate the actual posterior distribution.\n",
    "\n"
   ]
  },
  {
   "cell_type": "code",
   "execution_count": null,
   "id": "319d9f66",
   "metadata": {},
   "outputs": [],
   "source": []
  }
 ],
 "metadata": {
  "kernelspec": {
   "display_name": "Python 3",
   "language": "python",
   "name": "python3"
  },
  "language_info": {
   "codemirror_mode": {
    "name": "ipython",
    "version": 3
   },
   "file_extension": ".py",
   "mimetype": "text/x-python",
   "name": "python",
   "nbconvert_exporter": "python",
   "pygments_lexer": "ipython3",
   "version": "3.7.12"
  }
 },
 "nbformat": 4,
 "nbformat_minor": 5
}
